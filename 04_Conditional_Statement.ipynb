{
  "nbformat": 4,
  "nbformat_minor": 0,
  "metadata": {
    "colab": {
      "name": "04_Conditional Statement.ipynb",
      "provenance": [],
      "include_colab_link": true
    },
    "kernelspec": {
      "name": "python3",
      "display_name": "Python 3"
    },
    "language_info": {
      "name": "python"
    }
  },
  "cells": [
    {
      "cell_type": "markdown",
      "metadata": {
        "id": "view-in-github",
        "colab_type": "text"
      },
      "source": [
        "<a href=\"https://colab.research.google.com/github/AnoopThomasK/fmml2021/blob/main/04_Conditional_Statement.ipynb\" target=\"_parent\"><img src=\"https://colab.research.google.com/assets/colab-badge.svg\" alt=\"Open In Colab\"/></a>"
      ]
    },
    {
      "cell_type": "markdown",
      "metadata": {
        "id": "edX9c60K6OGY"
      },
      "source": [
        "#### Conditional Statements"
      ]
    },
    {
      "cell_type": "markdown",
      "metadata": {
        "id": "BOWsIrajqsvE"
      },
      "source": [
        "##### if - elif - else  (with indentation)\n",
        "```\n",
        "if condition1:\n",
        "   statement1\n",
        "   statement2\n",
        "   statement3\n",
        "elif condition2:\n",
        "   statement4\n",
        "   statement5\n",
        "   statement6\n",
        "else:\n",
        "   statement7\n",
        "   statement8\n",
        "```"
      ]
    },
    {
      "cell_type": "code",
      "metadata": {
        "id": "eDT9R8AOqnsz",
        "outputId": "340dfe1b-0834-443d-a070-cea96e123d56",
        "colab": {
          "base_uri": "https://localhost:8080/"
        }
      },
      "source": [
        "a = input(\"Enter an integer a: \")\n",
        "type(a)"
      ],
      "execution_count": 1,
      "outputs": [
        {
          "name": "stdout",
          "output_type": "stream",
          "text": [
            "Enter an integer a: 5\n"
          ]
        },
        {
          "output_type": "execute_result",
          "data": {
            "text/plain": [
              "str"
            ]
          },
          "metadata": {},
          "execution_count": 1
        }
      ]
    },
    {
      "cell_type": "code",
      "metadata": {
        "id": "gbOsmJaIqiIP",
        "outputId": "a5b0db96-4502-4ca3-ea6e-fff01dda896c",
        "colab": {
          "base_uri": "https://localhost:8080/"
        }
      },
      "source": [
        "a = int(a)\n",
        "type(a)"
      ],
      "execution_count": 2,
      "outputs": [
        {
          "output_type": "execute_result",
          "data": {
            "text/plain": [
              "int"
            ]
          },
          "metadata": {},
          "execution_count": 2
        }
      ]
    },
    {
      "cell_type": "code",
      "metadata": {
        "id": "8D8fTIoYqdGE",
        "outputId": "c68da7b7-8fbe-44b0-d372-b263d89ac6e6",
        "colab": {
          "base_uri": "https://localhost:8080/"
        }
      },
      "source": [
        "b = input(\"Enter an integer b: \")\n",
        "b = int(b)"
      ],
      "execution_count": 3,
      "outputs": [
        {
          "name": "stdout",
          "output_type": "stream",
          "text": [
            "Enter an integer b: 24\n"
          ]
        }
      ]
    },
    {
      "cell_type": "code",
      "metadata": {
        "id": "cehfXMvowN0S",
        "outputId": "8aac5cb1-24c3-4c31-9a86-e2d489bd4ab4",
        "colab": {
          "base_uri": "https://localhost:8080/"
        }
      },
      "source": [
        "if (a > b):\n",
        "  print (\"a is greater than b\")\n",
        "  print (\"and that's it\")\n",
        "elif (a < b):\n",
        "  print (\"a is less than b\")\n",
        "  print (\"which is clear\")\n",
        "else:\n",
        "  print (\"a is neither greater than b,  nor less than b\")"
      ],
      "execution_count": 4,
      "outputs": [
        {
          "output_type": "stream",
          "name": "stdout",
          "text": [
            "a is less than b\n",
            "which is clear\n"
          ]
        }
      ]
    },
    {
      "cell_type": "markdown",
      "metadata": {
        "id": "gRugJ6YQt57S"
      },
      "source": [
        "##### if (condition): statement (single line - without indentation)"
      ]
    },
    {
      "cell_type": "code",
      "metadata": {
        "id": "ZF-tcVscuADN",
        "outputId": "6b0c9125-0824-4b8d-fe54-a5c9cc40c2f5",
        "colab": {
          "base_uri": "https://localhost:8080/"
        }
      },
      "source": [
        "a = input(\"Enter an integer a: \")\n",
        "a = int(a)\n",
        "b = input(\"Enter an integer b: \")\n",
        "b = int(b)"
      ],
      "execution_count": 14,
      "outputs": [
        {
          "name": "stdout",
          "output_type": "stream",
          "text": [
            "Enter an integer a: 100\n",
            "Enter an integer b: 50\n"
          ]
        }
      ]
    },
    {
      "cell_type": "code",
      "metadata": {
        "id": "N2E5veph8_9V"
      },
      "source": [
        "if (a < b): print (\"a is lesser than b\")"
      ],
      "execution_count": 16,
      "outputs": []
    },
    {
      "cell_type": "markdown",
      "metadata": {
        "id": "wtPeoXBWxBLa"
      },
      "source": [
        "##### if - else in a single line "
      ]
    },
    {
      "cell_type": "code",
      "metadata": {
        "id": "SwO5vZ8LxGMA",
        "outputId": "bd0cc583-54d7-42c6-a243-8b1e09f243db",
        "colab": {
          "base_uri": "https://localhost:8080/"
        }
      },
      "source": [
        "a = input(\"Enter an integer a: \")\n",
        "a = int(a)\n",
        "b = input(\"Enter an integer b: \")\n",
        "b = int(b)"
      ],
      "execution_count": 7,
      "outputs": [
        {
          "name": "stdout",
          "output_type": "stream",
          "text": [
            "Enter an integer a: 99\n",
            "Enter an integer b: 9\n"
          ]
        }
      ]
    },
    {
      "cell_type": "code",
      "metadata": {
        "id": "-SLed6y6xJoq",
        "outputId": "80cb26a1-eac8-47ed-a10e-40a17461e3b6",
        "colab": {
          "base_uri": "https://localhost:8080/"
        }
      },
      "source": [
        "print (\"a is less than b\") if (a < b) else print (\"a - {} is not less than b - {}.\".format(a, b))"
      ],
      "execution_count": 8,
      "outputs": [
        {
          "output_type": "stream",
          "name": "stdout",
          "text": [
            "a - 99 is not less than b - 9.\n"
          ]
        }
      ]
    },
    {
      "cell_type": "markdown",
      "metadata": {
        "id": "a-ggfGcOvFjz"
      },
      "source": [
        "##### if-else with three conditions"
      ]
    },
    {
      "cell_type": "code",
      "metadata": {
        "id": "JHGOgFs-vWbq",
        "outputId": "13c62077-6abf-4aa1-9a24-120e3cf9517e",
        "colab": {
          "base_uri": "https://localhost:8080/"
        }
      },
      "source": [
        "a = input(\"Enter first string: \")\n",
        "b = input (\"Enter second string: \")"
      ],
      "execution_count": 9,
      "outputs": [
        {
          "name": "stdout",
          "output_type": "stream",
          "text": [
            "Enter first string: Anoop\n",
            "Enter second string: Thomas\n"
          ]
        }
      ]
    },
    {
      "cell_type": "code",
      "metadata": {
        "id": "qgqqBPjAvLQx",
        "outputId": "f2a8b69e-70ea-44a9-f2b2-71e07339ce35",
        "colab": {
          "base_uri": "https://localhost:8080/"
        }
      },
      "source": [
        "print (\"first string comes earlier\") if (a<b) else print (\"second string comes earlier\") if (b<a) else print (\"both strings are same\")  "
      ],
      "execution_count": 10,
      "outputs": [
        {
          "output_type": "stream",
          "name": "stdout",
          "text": [
            "first string comes earlier\n"
          ]
        }
      ]
    },
    {
      "cell_type": "markdown",
      "metadata": {
        "id": "VdwpRcZ82I5N"
      },
      "source": [
        "##### **Exercise**: Write a program to check whether a character read from keyboard is a vowel or consonant"
      ]
    },
    {
      "cell_type": "code",
      "metadata": {
        "id": "b_QjChOW2VJY",
        "outputId": "d80bea26-65a6-43ef-8fbe-7a69d7da02e1",
        "colab": {
          "base_uri": "https://localhost:8080/"
        }
      },
      "source": [
        "a= input(\"Enter a character: \")\n",
        "if a=='a' or a=='e' or a=='i' or a=='o' or a=='u' :\n",
        "  print(\" the character is a vowel\")\n",
        "else:\n",
        "  print(\" the character is a consonant\")# Your program should come here"
      ],
      "execution_count": 19,
      "outputs": [
        {
          "output_type": "stream",
          "name": "stdout",
          "text": [
            "Enter a character: z\n",
            " the character is a consonant\n"
          ]
        }
      ]
    },
    {
      "cell_type": "markdown",
      "metadata": {
        "id": "a9AsLgbcVfwx"
      },
      "source": [
        "Reference: [Official Python Documentation](https://docs.python.org/3/tutorial/controlflow.html)"
      ]
    }
  ]
}